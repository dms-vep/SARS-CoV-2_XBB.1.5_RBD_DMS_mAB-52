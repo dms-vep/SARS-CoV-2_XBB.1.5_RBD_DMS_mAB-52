{
 "cells": [
  {
   "cell_type": "markdown",
   "id": "f0513fc6-5d88-4a6c-bb6e-5a1a1dad87e3",
   "metadata": {},
   "source": [
    "# Make logo plots of top sites of antibody escape"
   ]
  },
  {
   "cell_type": "code",
   "execution_count": null,
   "id": "27b8ffde-38ca-4738-baa7-b670d06375bd",
   "metadata": {},
   "outputs": [],
   "source": [
    "import itertools\n",
    "\n",
    "import Bio.Seq\n",
    "\n",
    "import dmslogo\n",
    "\n",
    "import matplotlib.colors\n",
    "import matplotlib.pyplot as plt\n",
    "\n",
    "import pandas as pd"
   ]
  },
  {
   "cell_type": "markdown",
   "id": "f610662f-afbf-4ad9-a2f7-2a97d18b4981",
   "metadata": {},
   "source": [
    "Get data frame of escape for each antibody, and rank by site:"
   ]
  },
  {
   "cell_type": "code",
   "execution_count": null,
   "id": "2919437f-de40-4d3d-8722-293ca5cf0432",
   "metadata": {},
   "outputs": [],
   "source": [
    "dms_summary = pd.read_csv(snakemake.input.summary)\n",
    "per_antibody_escape = pd.read_csv(snakemake.input.per_antibody_escape)\n",
    "\n",
    "df = (\n",
    "    per_antibody_escape\n",
    "    [[\"site\", \"wildtype\", \"mutant\", \"antibody\", \"escape\"]]\n",
    "    .merge(\n",
    "        dms_summary[[\"site\", \"sequential_site\", \"mutant\", \"spike mediated entry\", \"ACE2 binding\"]],\n",
    "        on=[\"site\", \"mutant\"],\n",
    "        validate=\"one_to_one\",\n",
    "    )\n",
    "    .assign(site=lambda x: x[\"wildtype\"] + x[\"site\"].astype(str))\n",
    ")\n",
    "\n",
    "df = df.merge(\n",
    "    df\n",
    "    .groupby(\"site\", as_index=False)\n",
    "    .aggregate(abs_site_escape=pd.NamedAgg(\"escape\", lambda s: s.abs().sum()))\n",
    "    .assign(site_escape_rank=lambda x: x[\"abs_site_escape\"].rank(method=\"min\", ascending=False))\n",
    ").sort_values(\"site_escape_rank\")"
   ]
  },
  {
   "cell_type": "markdown",
   "id": "90589278-8dd7-4976-8a79-03c1d7bac393",
   "metadata": {},
   "source": [
    "Categorize as single-nucleotide adjacent. \n",
    "Right now we do this just using the overall genetic code, not paying attention to which codon is actually in the real nucleotide sequence (doing that could be better of course, if we know real nucleotide sequence)."
   ]
  },
  {
   "cell_type": "code",
   "execution_count": null,
   "id": "b5d035b0-07e4-42d0-8bf5-491610d5c1d3",
   "metadata": {},
   "outputs": [],
   "source": [
    "codons = [\"\".join(nts) for nts in itertools.product(\"ACTG\", repeat=3)]\n",
    "\n",
    "adjacent_aas = {}\n",
    "for parent_codon, mut_codon in itertools.product(codons, codons):\n",
    "    if 1 == sum(x != y for (x, y) in zip(parent_codon, mut_codon)):\n",
    "        parent_aa = str(Bio.Seq.Seq(parent_codon).translate())\n",
    "        mut_aa = str(Bio.Seq.Seq(mut_codon).translate())\n",
    "        if parent_aa not in adjacent_aas:\n",
    "            adjacent_aas[parent_aa] = {mut_aa}\n",
    "        else:\n",
    "            adjacent_aas[parent_aa].add(mut_aa)\n",
    "\n",
    "df[\"adjacent_mutation\"] = df.apply(\n",
    "    lambda r: r[\"mutant\"] in adjacent_aas[r[\"wildtype\"]], axis=1,\n",
    ")"
   ]
  },
  {
   "cell_type": "markdown",
   "id": "2584f963-c4ec-45c4-b728-9daf1042e2ad",
   "metadata": {},
   "source": [
    "Make a column to color the logo plots by functional effect of mutations, clipping entry scores to be in a reasonable range:"
   ]
  },
  {
   "cell_type": "code",
   "execution_count": null,
   "id": "db893f47-cee3-4889-ad9f-303c51967525",
   "metadata": {},
   "outputs": [],
   "source": [
    "color_col = \"spike mediated entry\"\n",
    "\n",
    "df = df.assign(\n",
    "    color_val=lambda x: x[color_col].clip(upper=0, lower=-3)\n",
    ").query(\"color_val.notnull()\")\n",
    "\n",
    "# Add color column for logo plots\n",
    "# Create color palette\n",
    "def color_gradient_hex(start, end, n):\n",
    "    \"\"\"Color function from polyclonal\"\"\"\n",
    "    cmap = matplotlib.colors.LinearSegmentedColormap.from_list(\n",
    "            name=\"_\", colors=[start, end], N=n\n",
    "        )\n",
    "    return [matplotlib.colors.rgb2hex(tup) for tup in cmap(list(range(0, n)))]\n",
    "\n",
    "color_map = dmslogo.colorschemes.ValueToColorMap(\n",
    "    minvalue=df[\"color_val\"].min(),\n",
    "    maxvalue=df[\"color_val\"].max(),\n",
    "    cmap=matplotlib.colors.ListedColormap(color_gradient_hex(\"white\", \"black\", n=50))\n",
    ")\n",
    "df = df.assign(color=lambda x: x[\"color_val\"].map(color_map.val_to_color))\n",
    "\n",
    "_ = color_map.scale_bar(orientation=\"horizontal\", label=color_col)"
   ]
  },
  {
   "cell_type": "markdown",
   "id": "2b3a58f3-dd53-40dd-99b8-12167e1fee80",
   "metadata": {},
   "source": [
    "Now make logo plots for all amino-acid mutations and just adjacent ones:"
   ]
  },
  {
   "cell_type": "code",
   "execution_count": null,
   "id": "bcce9037-440c-41c8-9e3e-70bba4de9769",
   "metadata": {},
   "outputs": [],
   "source": [
    "nrows = df[\"antibody\"].nunique() * 2\n",
    "top_n = 12  # show top this many sites\n",
    "fig, axes = plt.subplots(nrows, 1)\n",
    "fig.subplots_adjust(hspace=0.75)\n",
    "fig.set_size_inches(0.6 * (top_n + 1), 3 * nrows)\n",
    "\n",
    "for i, (antibody, antibody_df) in enumerate(df.groupby(\"antibody\")):\n",
    "    antibody_df = antibody_df.query(\"site_escape_rank <= @top_n\")\n",
    "    _ = dmslogo.draw_logo(\n",
    "        antibody_df,\n",
    "        x_col=\"sequential_site\",\n",
    "        xtick_col=\"site\",\n",
    "        letter_col=\"mutant\",\n",
    "        letter_height_col=\"escape\",\n",
    "        color_col=\"color\",\n",
    "        ax=axes[i],\n",
    "        title=f\"{antibody} all mutations\",\n",
    "    )\n",
    "    _ = dmslogo.draw_logo(\n",
    "        antibody_df.query(\"adjacent_mutation\"),\n",
    "        x_col=\"sequential_site\",\n",
    "        xtick_col=\"site\",\n",
    "        letter_col=\"mutant\",\n",
    "        letter_height_col=\"escape\",\n",
    "        color_col=\"color\",\n",
    "        ax=axes[2 * i + 1],\n",
    "        title=f\"{antibody} adjacent mutations\",\n",
    "    )"
   ]
  },
  {
   "cell_type": "code",
   "execution_count": null,
   "id": "eb43b2b9-5ddb-4b18-ba96-aa6fddb93cb3",
   "metadata": {},
   "outputs": [],
   "source": [
    "fig.savefig(snakemake.output.pdf)"
   ]
  },
  {
   "cell_type": "code",
   "execution_count": null,
   "id": "b4639809-a7ba-463a-818c-8dd0daeba463",
   "metadata": {},
   "outputs": [],
   "source": []
  }
 ],
 "metadata": {
  "kernelspec": {
   "display_name": "Python 3 (ipykernel)",
   "language": "python",
   "name": "python3"
  },
  "language_info": {
   "codemirror_mode": {
    "name": "ipython",
    "version": 3
   },
   "file_extension": ".py",
   "mimetype": "text/x-python",
   "name": "python",
   "nbconvert_exporter": "python",
   "pygments_lexer": "ipython3",
   "version": "3.11.7"
  }
 },
 "nbformat": 4,
 "nbformat_minor": 5
}
